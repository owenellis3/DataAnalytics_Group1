FinalProjectGroup_1.ipynb

1. Bayesian Analysis
2. Py Functions
3. DF - agg
4. Stats- central/ra corre/reg
5. Data viz plotting
6. Hyp test/ confidence intervals
